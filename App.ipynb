{
 "cells": [
  {
   "cell_type": "code",
   "execution_count": 2,
   "id": "e8c53b2c-7142-4d73-ac85-703bfb72fd21",
   "metadata": {},
   "outputs": [
    {
     "name": "stdout",
     "output_type": "stream",
     "text": [
      " * Serving Flask app '__main__'\n",
      " * Debug mode: on\n"
     ]
    },
    {
     "name": "stderr",
     "output_type": "stream",
     "text": [
      "WARNING: This is a development server. Do not use it in a production deployment. Use a production WSGI server instead.\n",
      " * Running on http://127.0.0.1:5000\n",
      "Press CTRL+C to quit\n",
      " * Restarting with watchdog (windowsapi)\n"
     ]
    },
    {
     "ename": "SystemExit",
     "evalue": "1",
     "output_type": "error",
     "traceback": [
      "An exception has occurred, use %tb to see the full traceback.\n",
      "\u001b[1;31mSystemExit\u001b[0m\u001b[1;31m:\u001b[0m 1\n"
     ]
    }
   ],
   "source": [
    "from flask import render_template, request, Flask\n",
    "import requests\n",
    "app = Flask(__name__)\n",
    "\n",
    "API_KEY = 'ec9a63a947e3c7cb5e1b21cdf099d341'\n",
    "BASE_URL = \"http://api.openweathermap.org/data/2.5/weather\"\n",
    "\n",
    "'''city = input(\"Enter the name of the city: \")\n",
    "ACTUAL_URL =f\"{BASE_URL}?appid={API_KEY}&q={city}\" \n",
    "response = requests.get(ACTUAL_URL).json()\n",
    "print(response)'''\n",
    "\n",
    "\n",
    "@app.route('/',methods=['GET','POST'])\n",
    "def weather():\n",
    "    if request.method == 'POST':\n",
    "        city = request.form['city'] # Accessing the city input from the form \n",
    "        # form refers to the HTML form element that allows users to input data and submit it to the server.\n",
    "        API_KEY = 'ec9a63a947e3c7cb5e1b21cdf099d341'\n",
    "        BASE_URL = \"http://api.openweathermap.org/data/2.5/weather\"\n",
    "        ACTUAL_URL = f\"{BASE_URL}?appid={API_KEY}&q={city}\" \n",
    "        response = requests.get(ACTUAL_URL)\n",
    "        if response.status_code == 200: \n",
    "            data = response.json()\n",
    "            temp = data['main']['temp']\n",
    "            weather = data['weather'][0]['description']\n",
    "            min_temp = data['main']['temp_min']\n",
    "            max_temp = data['main']['temp_max']\n",
    "            icon = data['weather'][0]['icon']\n",
    "        \n",
    "            print(temp,weather,min_temp,max_temp,icon)\n",
    "            return render_template('index.html',temp=temp,weather=weather,min_temp=min_temp,max_temp=max_temp,icon=icon, city_name = city)\n",
    "    else:\n",
    "        return render_template('index.html')\n",
    "\n",
    "if __name__ == '__main__':\n",
    "    app.run(debug=True)"
   ]
  },
  {
   "cell_type": "code",
   "execution_count": null,
   "id": "8ef636f5-a533-4dc1-b11c-0b67792701f8",
   "metadata": {},
   "outputs": [],
   "source": []
  }
 ],
 "metadata": {
  "kernelspec": {
   "display_name": "Python 3 (ipykernel)",
   "language": "python",
   "name": "python3"
  },
  "language_info": {
   "codemirror_mode": {
    "name": "ipython",
    "version": 3
   },
   "file_extension": ".py",
   "mimetype": "text/x-python",
   "name": "python",
   "nbconvert_exporter": "python",
   "pygments_lexer": "ipython3",
   "version": "3.11.5"
  }
 },
 "nbformat": 4,
 "nbformat_minor": 5
}
